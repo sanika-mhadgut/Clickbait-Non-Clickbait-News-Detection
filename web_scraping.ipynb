{
 "cells": [
  {
   "cell_type": "code",
   "execution_count": 10,
   "id": "827c0b53",
   "metadata": {},
   "outputs": [],
   "source": [
    "# We have gathered 285 news articles from sources including BBC News, Fox News, and BuzzFeed for testing purposes."
   ]
  },
  {
   "cell_type": "code",
   "execution_count": 1,
   "id": "b158d958",
   "metadata": {},
   "outputs": [],
   "source": [
    "#Importing neccessary libraries\n",
    "from selenium import webdriver\n",
    "from selenium.webdriver.common.by import By\n",
    "from selenium.webdriver.common.keys import Keys\n",
    "from selenium.webdriver.support.ui import WebDriverWait\n",
    "from selenium.webdriver.support import expected_conditions as EC\n",
    "\n",
    "from bs4 import BeautifulSoup\n",
    "import pandas as pd\n",
    "import time"
   ]
  },
  {
   "cell_type": "code",
   "execution_count": 2,
   "id": "3b28afbe",
   "metadata": {},
   "outputs": [],
   "source": [
    "#Create a function to instantiate the Safari webdriver when a certain url is provided\n",
    "def instantiate(url):\n",
    "    driver = webdriver.Safari()\n",
    "    driver.get(url)\n",
    "    return driver"
   ]
  },
  {
   "cell_type": "code",
   "execution_count": 3,
   "id": "cb103293",
   "metadata": {},
   "outputs": [],
   "source": [
    "df = []\n",
    "\n",
    "#Create a function that takes the instantiated driver and the base_xpath and the label to be extracted\n",
    "def scrape_headlines(driver,base_xpath,label):\n",
    "    # Find the HTML elements containing the news headlines\n",
    "    headlines = driver.find_elements(By.XPATH, base_xpath)  # Adjust class or tag accordingly\n",
    "\n",
    "    # Extract and print the headlines\n",
    "    for headline in headlines:\n",
    "        data = {}\n",
    "        data['headline'] = headline.text\n",
    "        data['label'] = label\n",
    "        df.append(data)"
   ]
  },
  {
   "cell_type": "code",
   "execution_count": 4,
   "id": "6d95f4c8",
   "metadata": {},
   "outputs": [],
   "source": [
    "#Helper function to automate scrolling to the end of the page\n",
    "def scroll_to_end():\n",
    "        driver.find_element(By.TAG_NAME, 'body').send_keys(Keys.END)\n",
    "        time.sleep(2)  # Adjust the sleep time based on your needs"
   ]
  },
  {
   "cell_type": "code",
   "execution_count": 5,
   "id": "ed451869",
   "metadata": {},
   "outputs": [],
   "source": [
    "# Extract news articles from fox news, the label is 0 - Non Clickbait\n",
    "url = \"https://www.foxnews.com\"\n",
    "base_xpaths = [\"//*[@id='wrapper']/div[2]/*/main/*/div/*/div[2]/header/h3/a\",\n",
    "\"//*[@id='wrapper']/div[2]/*/main/div[2]/*/div[2]/header/h3/a\"]\n",
    "driver = instantiate(url)\n",
    "\n",
    "for base_xpath in base_xpaths:\n",
    "    scrape_headlines(driver,base_xpath,0)\n",
    "    \n",
    "# Close the browser window\n",
    "driver.quit()"
   ]
  },
  {
   "cell_type": "code",
   "execution_count": 6,
   "id": "6f308c78",
   "metadata": {},
   "outputs": [],
   "source": [
    "# Extract news articles from bbc news, the label is 0 - Non Clickbait\n",
    "\n",
    "url = \"https://www.bbc.com/news/us-canada\"\n",
    "base_xpath = \"//*[@id='__next']/main/section[5]/div/div[2]/div[1]/*/div/a/div/div[2]/div[2]/div[1]/div/h2\"\n",
    "driver = instantiate(url)\n",
    "scrape_headlines(driver,base_xpath,0)\n",
    "\n",
    "button_xpath = \"//*[@id='__next']/main/section[5]/div/div[2]/div[2]/div/button[9]\"\n",
    "\n",
    "for i in range(0,4):\n",
    "    next_button = WebDriverWait(driver, 10).until(\n",
    "        EC.element_to_be_clickable((By.XPATH, button_xpath)))\n",
    "\n",
    "    next_button.click()\n",
    "    time.sleep(3)\n",
    "    scrape_headlines(driver,base_xpath,0)\n",
    "\n",
    "driver.quit()"
   ]
  },
  {
   "cell_type": "code",
   "execution_count": 7,
   "id": "5bd0f809",
   "metadata": {},
   "outputs": [],
   "source": [
    "# Extract news articles from buzzfeed , the label is 1 - Clickbait\n",
    "\n",
    "url = \"https://www.buzzfeednews.com\"\n",
    "base_xpath = \"//*[@id='mod-main-feed-1']/*/div[1]/*/span[2]/p\"\n",
    "driver = instantiate(url)\n",
    "\n",
    "for i in range(1,5):\n",
    "    scroll_to_end()\n",
    "    button_xpath = f\"//*[@id='mod-show-more-{i}']/div/button\"\n",
    "    more_stories_button = WebDriverWait(driver, 10).until(\n",
    "        EC.element_to_be_clickable((By.XPATH, button_xpath)))\n",
    "    time.sleep(3)\n",
    "    more_stories_button.click()\n",
    "    time.sleep(3)\n",
    "\n",
    "scrape_headlines(driver,base_xpath,1)\n",
    "\n",
    "# Close the browser window\n",
    "driver.quit()"
   ]
  },
  {
   "cell_type": "code",
   "execution_count": 9,
   "id": "b0cb047f",
   "metadata": {},
   "outputs": [
    {
     "name": "stdout",
     "output_type": "stream",
     "text": [
      "                                              headline  label\n",
      "0    Dem-appointed Colorado justice warns of reperc...      0\n",
      "1    WATCH LIVE: VP Harris leads meeting ahead of N...      0\n",
      "2    DOJ announces indictment in connection with 19...      0\n",
      "3    Biden says 'no question' Trump supported insur...      0\n",
      "4    Brittany Mahomes fires back at 'rude a-- peopl...      0\n",
      "..                                                 ...    ...\n",
      "280  Joshua was spotted out with Lupita just a day ...      1\n",
      "281  “He calls, and we speak on the phone one last ...      1\n",
      "282  Taylor was seen literally shaking with fear wh...      1\n",
      "283                                It’s all adding up…      1\n",
      "284  Almost a decade after Britney and Justin’s mes...      1\n",
      "\n",
      "[285 rows x 2 columns]\n"
     ]
    }
   ],
   "source": [
    "#Convert the data collected to a dataframe and save is as a .csv file\n",
    "data = pd.DataFrame(df)\n",
    "data.to_csv('scrapped_data.csv', index=False)\n",
    "print(data)"
   ]
  }
 ],
 "metadata": {
  "kernelspec": {
   "display_name": "Python 3 (ipykernel)",
   "language": "python",
   "name": "python3"
  },
  "language_info": {
   "codemirror_mode": {
    "name": "ipython",
    "version": 3
   },
   "file_extension": ".py",
   "mimetype": "text/x-python",
   "name": "python",
   "nbconvert_exporter": "python",
   "pygments_lexer": "ipython3",
   "version": "3.11.4"
  }
 },
 "nbformat": 4,
 "nbformat_minor": 5
}
